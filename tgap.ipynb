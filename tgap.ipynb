{
 "cells": [
  {
   "cell_type": "code",
   "outputs": [],
   "source": [
    "#S should be a Python set\n",
    "def mex(S):\n",
    "    n = len(S)\n",
    "    for i in range(n + 1):\n",
    "        if i not in S:\n",
    "            return i"
   ],
   "metadata": {
    "collapsed": false,
    "ExecuteTime": {
     "end_time": "2025-01-12T18:09:41.338405Z",
     "start_time": "2025-01-12T18:09:41.323674Z"
    }
   },
   "id": "11742fa956eae1db",
   "execution_count": 1
  },
  {
   "cell_type": "code",
   "outputs": [],
   "source": [
    "def detect_periodicity(arr):\n",
    "    \n",
    "    n = len(arr)\n",
    "    \n",
    "    for l in range(n//3):\n",
    "        for p in range(1, (n - l)//3):  \n",
    "            is_periodic = True\n",
    "            for i in range(l, n - p):\n",
    "                if arr[i] != arr[i + p]:\n",
    "                    is_periodic = False\n",
    "                    break\n",
    "            if is_periodic:\n",
    "                return l, p\n",
    "\n",
    "    return None  \n",
    "\n",
    "\n"
   ],
   "metadata": {
    "collapsed": false,
    "ExecuteTime": {
     "end_time": "2025-01-12T18:15:46.348494Z",
     "start_time": "2025-01-12T18:15:46.336044Z"
    }
   },
   "id": "8e784dcbe0fedb0e",
   "execution_count": 14
  },
  {
   "cell_type": "code",
   "outputs": [],
   "source": [
    "def detect_arithmetic_periodicity(arr):\n",
    "\n",
    "    n = len(arr)\n",
    "\n",
    "    for l in range(n//3):\n",
    "        for p in range(1, (n - l)//3):\n",
    "            for s in range(1, p+1): \n",
    "                is_periodic = True\n",
    "                for i in range(l, n - p):\n",
    "                    if arr[i]+s != arr[i + p]:\n",
    "                        is_periodic = False\n",
    "                        break\n",
    "                if is_periodic:\n",
    "                    return l, p, s\n",
    "\n",
    "    return None"
   ],
   "metadata": {
    "collapsed": false,
    "ExecuteTime": {
     "end_time": "2025-01-12T18:31:22.215181Z",
     "start_time": "2025-01-12T18:31:22.202451Z"
    }
   },
   "id": "eff01169ae1400cb",
   "execution_count": 45
  },
  {
   "cell_type": "code",
   "outputs": [],
   "source": [
    "#S - set of possible moves, should be a Python set, n - size of the pile (liczba żetonów na stosie), I assume n>max(S) and that S is not empty. The aim of this function is to calculate Sprague-Grundy values for a subtraction game with a FINITE subtraction set S and for pile of size n.\n",
    "def Subtraction_Sprague_Grundy(S,n):\n",
    "    s_max=max(S)\n",
    "    s_min=min(S)\n",
    "    G_values=[]\n",
    "    for i in range(s_min):\n",
    "        G_values.append(0)\n",
    "    G_values.append(1)\n",
    "    for i in range(s_min+1,s_max+1):\n",
    "        a=[] # the Sprague-Grundy values for pile sizes achievable from pile size i.\n",
    "        for j in S:\n",
    "            if i-j>=0:\n",
    "                a.append(G_values[i-j])\n",
    "        A=set(a)\n",
    "        G_values.append(mex(A))\n",
    "    for i in range(s_max+1,n+1):\n",
    "        a=[]\n",
    "        for j in S:\n",
    "            a.append(G_values[i-j])\n",
    "        A=set(a)\n",
    "        G_values.append(mex(A))\n",
    "    return G_values"
   ],
   "metadata": {
    "collapsed": false,
    "ExecuteTime": {
     "end_time": "2025-01-12T18:22:06.528914Z",
     "start_time": "2025-01-12T18:22:06.504097Z"
    }
   },
   "id": "daec8d0572f4a6a5",
   "execution_count": 27
  },
  {
   "cell_type": "code",
   "outputs": [],
   "source": [
    "#S - set of forbidden moves, should be a Python set, n - size of the pile (liczba żetonów na stosie), I assume S is not empty. The aim of this function is to calculate Sprague-Grundy values for an all-but subtraction game with a FINITE exclusion set S and for pile of size n.\n",
    "def Allbut_Sprague_Grundy(S,n):\n",
    "    G_values=[0]\n",
    "    for i in range(1,n+1):\n",
    "        a=[]\n",
    "        for j in range(1,i+1):\n",
    "            if j not in S:\n",
    "                a.append(G_values[i-j])\n",
    "        if len(a)==0:\n",
    "            G_values.append(0)\n",
    "        else:\n",
    "            A=set(a)\n",
    "            G_values.append(mex(A))\n",
    "    return G_values"
   ],
   "metadata": {
    "collapsed": false,
    "ExecuteTime": {
     "end_time": "2025-01-12T18:09:42.039181Z",
     "start_time": "2025-01-12T18:09:42.026565Z"
    }
   },
   "id": "6905527e51ffc683",
   "execution_count": 4
  },
  {
   "cell_type": "code",
   "outputs": [
    {
     "name": "stdout",
     "output_type": "stream",
     "text": [
      "The array is periodic with pre-period l = 0, period p = 3 and saltus 1.\n"
     ]
    }
   ],
   "source": [
    "S={1,2}\n",
    "g=Allbut_Sprague_Grundy(S,50)\n",
    "res=detect_arithmetic_periodicity(g)\n",
    "if res:\n",
    "    l,p,s=res\n",
    "    print(f\"The array is periodic with pre-period l = {l}, period p = {p} and saltus {s}.\")\n",
    "else:\n",
    "    print(\"No arithmetic periodicity found\")"
   ],
   "metadata": {
    "collapsed": false,
    "ExecuteTime": {
     "end_time": "2025-01-12T18:31:38.770679Z",
     "start_time": "2025-01-12T18:31:38.754924Z"
    }
   },
   "id": "edc6df9e37ba469f",
   "execution_count": 48
  },
  {
   "cell_type": "code",
   "outputs": [],
   "source": [
    "#function checks whether there is periodicity for subtraction game with set S. Parameter n steers the length of S-G values calculation (i.e for how big maximal pile are Sprague-Grundy values calculated)\n",
    "def check_sg_periodicity(S,n):\n",
    "    g=Subtraction_Sprague_Grundy(S,n)\n",
    "    res=detect_periodicity(g)\n",
    "    if res:\n",
    "        l,p=res\n",
    "        print(f\"The array is periodic with pre-period l = {l}, period p = {p}.\")\n",
    "    else:\n",
    "        print(\"No  periodicity found\")"
   ],
   "metadata": {
    "collapsed": false
   },
   "id": "a5f717bbc8d81b94"
  },
  {
   "cell_type": "code",
   "outputs": [],
   "source": [
    "#function checks whether there is periodicity for allbut game with set S. Parameter n steers the length of S-G values calculation (i.e for how big maximal pile are Sprague-Grundy values calculated)\n",
    "def check_sg_arithmetic_periodicity(S,n):\n",
    "    g=Allbut_Sprague_Grundy(S,n)\n",
    "    res=detect_periodicity(g)\n",
    "    if res:\n",
    "        l,p,s=res\n",
    "        print(f\"The array is periodic with pre-period l = {l}, period p = {p} and saltus= {s}.\")\n",
    "    else:\n",
    "        print(\"No  arithmetic periodicity found\")"
   ],
   "metadata": {
    "collapsed": false
   },
   "id": "6259efd9c7aa9500"
  }
 ],
 "metadata": {
  "kernelspec": {
   "display_name": "Python 3",
   "language": "python",
   "name": "python3"
  },
  "language_info": {
   "codemirror_mode": {
    "name": "ipython",
    "version": 2
   },
   "file_extension": ".py",
   "mimetype": "text/x-python",
   "name": "python",
   "nbconvert_exporter": "python",
   "pygments_lexer": "ipython2",
   "version": "2.7.6"
  }
 },
 "nbformat": 4,
 "nbformat_minor": 5
}
