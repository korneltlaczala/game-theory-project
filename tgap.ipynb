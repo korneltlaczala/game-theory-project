{
 "cells": [
  {
   "cell_type": "code",
   "outputs": [],
   "source": [
    "#S should be a Python set\n",
    "def mex(S):\n",
    "    n = len(S)\n",
    "    for i in range(n + 1):\n",
    "        if i not in S:\n",
    "            return i"
   ],
   "metadata": {
    "collapsed": false,
    "ExecuteTime": {
     "end_time": "2025-01-11T12:28:11.514494Z",
     "start_time": "2025-01-11T12:28:11.500479Z"
    }
   },
   "id": "11742fa956eae1db",
   "execution_count": 1
  },
  {
   "cell_type": "code",
   "outputs": [],
   "source": [
    "#S - set of possible moves, should be a Python set, n - size of the pile (liczba żetonów na stosie), I assume n>max(S) and that S is not empty. The aim of this function is to calculate Sprague-Grundy values for a subtraction game with a FINITE subtraction set S and for pile of size n.\n",
    "def Subtraction_Sprague_Grundy(S,n):\n",
    "    s_max=max(S)\n",
    "    s_min=min(S)\n",
    "    G_values=[]\n",
    "    for i in range(s_min):\n",
    "        G_values.append(0)\n",
    "    G_values.append(1)\n",
    "    for i in range(s_min+1,s_max+1):\n",
    "        a=[] # the Sprague-Grundy values for pile sizes achievable from pile size i.\n",
    "        for j in S:\n",
    "            if i-j>0:\n",
    "                a.append(G_values[i-j])\n",
    "        A=set(a)\n",
    "        G_values.append(mex(A))\n",
    "    for i in range(s_max+1,n+1):\n",
    "        a=[]\n",
    "        for j in S:\n",
    "            a.append(G_values[i-j])\n",
    "        A=set(a)\n",
    "        G_values.append(mex(A))\n",
    "    return G_values"
   ],
   "metadata": {
    "collapsed": false,
    "ExecuteTime": {
     "end_time": "2025-01-11T12:28:11.529904Z",
     "start_time": "2025-01-11T12:28:11.515907Z"
    }
   },
   "id": "daec8d0572f4a6a5",
   "execution_count": 2
  },
  {
   "cell_type": "code",
   "outputs": [],
   "source": [
    "#S - set of forbidden moves, should be a Python set, n - size of the pile (liczba żetonów na stosie), I assume S is not empty. The aim of this function is to calculate Sprague-Grundy values for an all-but subtraction game with a FINITE exclusion set S and for pile of size n.\n",
    "def Allbut_Sprague_Grundy(S,n):\n",
    "    G_values=[0]\n",
    "    for i in range(1,n+1):\n",
    "        a=[]\n",
    "        for j in range(1,i+1):\n",
    "            if j not in S:\n",
    "                a.append(G_values[i-j])\n",
    "        if len(a)==0:\n",
    "            G_values.append(0)\n",
    "        else:\n",
    "            A=set(a)\n",
    "            G_values.append(mex(A))\n",
    "    return G_values"
   ],
   "metadata": {
    "collapsed": false,
    "ExecuteTime": {
     "end_time": "2025-01-11T12:38:44.763399Z",
     "start_time": "2025-01-11T12:38:44.756182Z"
    }
   },
   "id": "6905527e51ffc683",
   "execution_count": 10
  },
  {
   "cell_type": "code",
   "outputs": [],
   "source": [],
   "metadata": {
    "collapsed": false
   },
   "id": "b4492a5c35145f90"
  }
 ],
 "metadata": {
  "kernelspec": {
   "display_name": "Python 3",
   "language": "python",
   "name": "python3"
  },
  "language_info": {
   "codemirror_mode": {
    "name": "ipython",
    "version": 2
   },
   "file_extension": ".py",
   "mimetype": "text/x-python",
   "name": "python",
   "nbconvert_exporter": "python",
   "pygments_lexer": "ipython2",
   "version": "2.7.6"
  }
 },
 "nbformat": 4,
 "nbformat_minor": 5
}
